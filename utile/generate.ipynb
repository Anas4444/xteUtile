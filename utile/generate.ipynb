{
 "cells": [
  {
   "cell_type": "code",
   "execution_count": 1,
   "metadata": {
    "ExecuteTime": {
     "end_time": "2023-08-21T10:05:52.874126300Z",
     "start_time": "2023-08-21T10:05:52.831126900Z"
    }
   },
   "outputs": [
    {
     "name": "stdout",
     "output_type": "stream",
     "text": [
      "['D:\\\\Projects\\\\Xtensus\\\\Vehicule\\\\src\\\\main\\\\java\\\\com\\\\xtensus\\\\vehicule\\\\domain', 'D:\\\\Projects\\\\Xtensus\\\\Stocks\\\\src\\\\main\\\\java\\\\com\\\\xtensus\\\\stocks\\\\domain']\n"
     ]
    }
   ],
   "source": [
    "import os, glob\n",
    "\n",
    "microservices = [\"vehicule\", \"stocks\"]\n",
    "paths = [\"D:\\\\Projects\\\\Xtensus\\\\\"+microservice.capitalize()+\"\\\\src\\\\main\\\\java\\\\com\\\\xtensus\\\\\"+microservice+\"\\\\domain\" for microservice in microservices]\n",
    "for path in paths:\n",
    "    for filename in glob.glob(os.path.join(path, '*.java')):\n",
    "        with open(os.path.join(os.getcwd(), filename), 'r') as f:\n",
    "            data = f.readlines()\n",
    "            i = -1\n",
    "            for line in data:\n",
    "                i += 1\n",
    "                if \"OneToMany\" not in line:\n",
    "                    continue\n",
    "                if \", fetch = FetchType.EAGER\" in line:\n",
    "                    continue\n",
    "                index = line.find(')')\n",
    "                data[i] = line[:index] + \", fetch = FetchType.EAGER\" + line[index:]\n",
    "\n",
    "        with open(os.path.join(os.getcwd(), filename), 'w') as f:\n",
    "            f.writelines(data)"
   ]
  }
 ],
 "metadata": {
  "kernelspec": {
   "display_name": "Python 3",
   "language": "python",
   "name": "python3"
  },
  "language_info": {
   "codemirror_mode": {
    "name": "ipython",
    "version": 3
   },
   "file_extension": ".py",
   "mimetype": "text/x-python",
   "name": "python",
   "nbconvert_exporter": "python",
   "pygments_lexer": "ipython3",
   "version": "3.9.13"
  },
  "orig_nbformat": 4
 },
 "nbformat": 4,
 "nbformat_minor": 2
}
