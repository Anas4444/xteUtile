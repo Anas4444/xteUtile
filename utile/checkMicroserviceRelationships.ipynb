{
 "cells": [
  {
   "cell_type": "code",
   "execution_count": 190,
   "metadata": {
    "ExecuteTime": {
     "end_time": "2023-08-31T14:57:02.912439700Z",
     "start_time": "2023-08-31T14:57:02.905459400Z"
    }
   },
   "outputs": [],
   "source": [
    "import os, glob\n",
    "\n",
    "microservices = dict()\n",
    "path = \"D:\\\\Projects\\\\Xtensus\\\\xteUtile\\\\JDLConfiguration\"\n",
    "data = dict()\n",
    "for filename in glob.glob(os.path.join(path, '*.jdl')):\n",
    "    startIndex = filename.rfind('\\\\')+1\n",
    "    endIndex = filename.rfind('Config')\n",
    "    microservices[filename[startIndex:endIndex].lower()] = dict()\n",
    "    microservices[filename[startIndex:endIndex].lower()][\"entities\"] = dict()\n",
    "    with open(os.path.join(os.getcwd(), filename), 'r') as file:\n",
    "        data = file.readlines()\n",
    "        microservices[filename[startIndex:endIndex].lower()][\"data\"] = data\n",
    "        for line in data:\n",
    "            if (\"paginate\" in line):\n",
    "                entityIndexStart = line.find(next(filter(str.isupper, line), ''))\n",
    "                entityIndexEnd = line.find(\"with\")-1\n",
    "                microservices[filename[startIndex:endIndex].lower()][\"entities\"][line[entityIndexStart:entityIndexEnd].strip()] = set()"
   ]
  },
  {
   "cell_type": "code",
   "execution_count": 191,
   "outputs": [],
   "source": [
    "for microservice in microservices.keys():\n",
    "    newEntity = False\n",
    "    entityName = \"\"\n",
    "    for line in microservices[microservice][\"data\"]:\n",
    "        if (\"entity\" in line):\n",
    "            newEntity = True\n",
    "            entityName = line[line.find(next(filter(str.isupper, line), '')):line.find(\"{\")-1].strip()\n",
    "            #print(\"Found New Entity :\", entityName)\n",
    "            continue\n",
    "        if (\"}\" in line):\n",
    "            newEntity = False\n",
    "            entityName = \"\"\n",
    "        if (newEntity==True):\n",
    "            for entity in microservices[microservice][\"entities\"].keys():\n",
    "                if (entity==entityName):\n",
    "                    #print(entity)\n",
    "                    for otherMicroservice in microservices.keys():\n",
    "                        if (otherMicroservice == microservice):\n",
    "                            continue\n",
    "                        if (otherMicroservice in line):\n",
    "                            index = -1\n",
    "                            b = False\n",
    "                            for c in line:\n",
    "                                index+=1\n",
    "                                if (c.isalpha()):\n",
    "                                    b = True\n",
    "                                if (c==' ' and b == True):\n",
    "                                    break\n",
    "                            microservices[microservice][\"entities\"][entity].add(line[:index].strip())\n",
    "                    break\n",
    "    del microservices[microservice][\"data\"]"
   ],
   "metadata": {
    "collapsed": false,
    "ExecuteTime": {
     "end_time": "2023-08-31T14:57:02.932435700Z",
     "start_time": "2023-08-31T14:57:02.913442300Z"
    }
   }
  },
  {
   "cell_type": "code",
   "execution_count": 192,
   "outputs": [],
   "source": [
    "import json\n",
    "from json import JSONEncoder\n",
    "\n",
    "# subclass JSONEncoder\n",
    "class setEncoder(JSONEncoder):\n",
    "    def default(self, obj):\n",
    "        return list(obj)\n",
    "\n",
    "with open(\"microservices.json\", \"w\") as outfile:\n",
    "    json.dump(microservices, outfile, cls=setEncoder)"
   ],
   "metadata": {
    "collapsed": false,
    "ExecuteTime": {
     "end_time": "2023-08-31T14:57:02.943437600Z",
     "start_time": "2023-08-31T14:57:02.929435500Z"
    }
   }
  },
  {
   "cell_type": "code",
   "execution_count": 193,
   "outputs": [
    {
     "name": "stdout",
     "output_type": "stream",
     "text": [
      "{'personnel': {'entities': {'Personnel': [], 'Personnelgrade': [], 'Personnelchauffeur': [], 'Personnelattributionquotacarburant': [], 'Personnelautrepersonnel': []}}, 'stocks': {'entities': {'Fournisseur': [], 'Boncommande': [], 'Bonlivraison': [], 'Facture': [], 'Boncommandeaffectationvehicule': [], 'Ligneboncommande': [], 'Bonretour': [], 'Bonsortiereparationentretiendevis': [], 'Fodec': [], 'ArticleMouvement': [], 'DepotNiveau1': [], 'DepotNiveau2': [], 'DepotNiveau3': [], 'Article': ['vehiculeModeleMarqueId'], 'ArticleUnite': [], 'ArticleCategory': [], 'Factureaccident': []}}, 'vehicule': {'entities': {'Vehicule': [], 'MDeafVehiculeGenre': [], 'MDeafVehiculeModeleCommercial': [], 'VehiculeUnite': [], 'VehiculeCategory': [], 'Climatisation': [], 'Carburant': [], 'Etat': [], 'SourceAcquisition': [], 'DimensionRoue': [], 'OdometreType': [], 'Transmission': [], 'AcquisitionType': [], 'AffectationType': [], 'Version': [], 'MarqueModele': [], 'Marque': [], 'VehiculeEquipementVehicule': [], 'VehiculeEquipement': [], 'VehiculeEquipementType': [], 'VehiculeVignette': [], 'VehiculeVignetteDieselQuittance': [], 'VehiculeContravention': ['personnelReference'], 'VehiculeContraventionNature': [], 'VehiculeContraventionType': [], 'VehiculeVisiteTechnique': [], 'VehiculeAccident': ['personnelId'], 'AssuranceModeReglement': [], 'AssurancePolice': [], 'AssurancePoliceQuittance': [], 'AssurancePoliceResiliation': [], 'AssurancePoliceAssureur': [], 'AssurancePoliceValiditeQuittance': [], 'AssurancePoliceVehicule': [], 'AssurancePoliceTypeProtectionR': [], 'AssurancePoliceTypeProtection': []}}}\n"
     ]
    }
   ],
   "source": [
    "import pandas as pd\n",
    "\n",
    "with open(\"microservices.json\", \"r\") as f:\n",
    "    json_data = json.load(f)\n",
    "\n",
    "df = pd.DataFrame.from_dict(json_data)\n",
    "df.to_csv(\"microservices.csv\", index=False)"
   ],
   "metadata": {
    "collapsed": false,
    "ExecuteTime": {
     "end_time": "2023-08-31T14:57:03.084435400Z",
     "start_time": "2023-08-31T14:57:02.944435200Z"
    }
   }
  }
 ],
 "metadata": {
  "kernelspec": {
   "display_name": "Python 3",
   "language": "python",
   "name": "python3"
  },
  "language_info": {
   "codemirror_mode": {
    "name": "ipython",
    "version": 3
   },
   "file_extension": ".py",
   "mimetype": "text/x-python",
   "name": "python",
   "nbconvert_exporter": "python",
   "pygments_lexer": "ipython3",
   "version": "3.9.13"
  },
  "orig_nbformat": 4
 },
 "nbformat": 4,
 "nbformat_minor": 2
}
