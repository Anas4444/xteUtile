{
 "cells": [
  {
   "cell_type": "code",
   "execution_count": 137,
   "metadata": {
    "ExecuteTime": {
     "end_time": "2023-08-31T13:19:59.095924400Z",
     "start_time": "2023-08-31T13:19:59.075924200Z"
    }
   },
   "outputs": [
    {
     "name": "stdout",
     "output_type": "stream",
     "text": [
      "{'personnel': {'entities': {'Personnel': set(), 'Personnelgrade': set(), 'Personnelchauffeur': set(), 'Personnelattributionquotacarburant': set(), 'Personnelautrepersonnel': set()}, 'data': ['entity Personnel {\\n', '    personnelReference Integer required\\n', '    personnelReferenceClt Integer\\n', '    personnelMatricule String\\n', '    personnelNom String\\n', '    personnelNomAR String\\n', '    personnelPrenom String\\n', '    personnelPrenomAR String\\n', '    DateNaissance ZonedDateTime\\n', '    DateEmbauche ZonedDateTime\\n', '    personnelBenificiereCarburant Boolean\\n', '    personnelCellulaire String\\n', '    personnelNumeroTelephone String\\n', '    personnelNumeroPermisConduire String\\n', '    personnelDateLivraisonPermisConduire String\\n', '    personnelSalaire Integer\\n', '    personnelDateSortie String\\n', '    personnelDateGrade Integer\\n', '    fonctionId Integer unique\\n', '    etatId Integer unique\\n', '    uniteId Integer unique\\n', '    categoriePersonnel Integer\\n', '}\\n', '\\n', 'entity Personnelgrade {\\n', '    gradeId Integer required\\n', '    gradeIdClt Integer\\n', '    gradeLibelle String\\n', '    gradeLibelleAR String\\n', '    gradeOrdre Integer\\n', '}\\n', '\\n', 'entity Personnelchauffeur {\\n', '    chauffeurReference Integer required\\n', '    disponibiliteId String\\n', '    personnelchauffeurprovisoire Integer\\n', '}\\n', '\\n', 'entity Personnelattributionquotacarburant {\\n', '    personnelAttributionQuotaCarburantId Integer required\\n', '    personnelAttributionQuotaCarburantAnnee Integer\\n', '    personnelAttributionQuotaCarburantDateRemise ZonedDateTime\\n', '    personnelAttributionQuotaCarburantDateSysteme ZonedDateTime\\n', '    personnelAttributionQuotaCarburantMois Integer\\n', '}\\n', 'entity Personnelautrepersonnel {\\n', '    autrepersonnelReference Integer required\\n', '    autrepersonnelDepartement ZonedDateTime\\n', '    autrepersonnelDepartementAR ZonedDateTime\\n', '    autrepersonnelEmail Integer\\n', '}\\n', '\\n', 'relationship OneToOne {\\n', '    Personnelchauffeur{personnelReference} to Personnel\\n', '}\\n', 'relationship ManyToOne {\\n', '    Personnel{gradeId} to Personnelgrade\\n', '}\\n', '\\n', 'relationship OneToOne {\\n', '    Personnelattributionquotacarburant{PersonnelId} to Personnel\\n', '}\\n', 'relationship OneToOne {\\n', '    Personnelautrepersonnel{personnelReference} to Personnel\\n', '}\\n', '\\n', 'paginate Personnel with pagination\\n', 'paginate Personnelgrade with pagination\\n', 'paginate Personnelchauffeur with pagination\\n', 'paginate Personnelattributionquotacarburant with pagination\\n', 'paginate Personnelautrepersonnel with pagination']}, 'stocks': {'entities': {'Fournisseur': set(), 'Boncommande': set(), 'Bonlivraison': set(), 'Facture': set(), 'Boncommandeaffectationvehicule': set(), 'Ligneboncommande': set(), 'Bonretour': set(), 'Bonsortiereparationentretiendevis': set(), 'Fodec': set(), 'ArticleMouvement': set(), 'DepotNiveau1': set(), 'DepotNiveau2': set(), 'DepotNiveau3': set(), 'Article': set(), 'ArticleUnite': set(), 'ArticleCategory': set(), 'Factureaccident': set()}, 'data': ['entity Boncommande {\\n', '    @Id bonCommandeId Long\\n', '    bonCommandeNumero Integer\\n', '    bonCommandeDate ZonedDateTime required\\n', '    bonCommandeDateSysteme ZonedDateTime\\n', '    bonCommandeObjet String required\\n', '    bonCommandeCommentaire String\\n', '    bonCommandeAnnee Integer\\n', '    bonCommandetotalHT Double\\n', '    bonCommandetotalFodec Double\\n', '    bonCommandetotalTVA Double\\n', '    bonCommandetotalRemise Double\\n', '    bonCommandetotalTTC Double\\n', '    bonCommandeTimbre Double required\\n', '    bonCommandetotalNet Double\\n', '}\\n', '\\n', 'entity Bonlivraison {\\n', '    @Id bonLivraisonId Long\\n', '    bonLivraisonNumero ZonedDateTime required\\n', '    bonLivraisonDate String required\\n', '    bonLivraisonDateSysteme String\\n', '    bonLivraisonObservation Integer\\n', '}\\n', '\\n', 'entity Fournisseur {\\n', '    @Id fournisseurId Long\\n', '    fournisseurRaisonSociale String\\n', '    fournisseurAdresse String\\n', '    fournisseurTelephone String required\\n', '    fournisseurMatriculeFiscale String required\\n', '    fournisseurRegistreCommercial String required\\n', '    fournisseurSiteWeb String\\n', '    fournisseurEmails String required\\n', '}\\n', '\\n', 'entity Facture {\\n', '    @Id factureId Long\\n', '    factureNumero String\\n', '    factureDate ZonedDateTime\\n', '    factureDateSysteme ZonedDateTime\\n', '    factureMontantHT Float\\n', '    factureValeurTVA Float\\n', '    factureMontantTTC Float\\n', '    factureTotalFacture Float\\n', '    factureMontantTVA Float\\n', '    factureTimbe Float\\n', '    factureAutresFrais Float\\n', '}\\n', '\\n', 'entity ArticleMouvement {\\n', '    @Id articleMouvementId Long\\n', '    bonSortieReparationEntretienDevisId Integer\\n', '    articleId Integer\\n', '    depotniveau3Id Integer\\n', '    bonLivraisonId Integer\\n', '    articleMouvementDate Integer\\n', '    articleMouvementDateSysteme ZonedDateTime\\n', '    articleMouvementEtat Integer\\n', '    articleMouvementPrixAchatHT Float\\n', '    articleMouvementPourcentageTVA Float\\n', '    articleMouvementPrixAchatTVA Float\\n', '    articleMouvementPrixAchatTTC Float\\n', '    articleMouvementQteCumulative Float\\n', '    articleMouvementBonRetour Integer\\n', '    demandeMaintenanceId Integer\\n', '    interventionEntretienReference Integer\\n', '    interventionPlanifieReference Integer\\n', '    articleMouvementFodec Double\\n', '    articleMouvementRemise Float\\n', '    articleMouvementQte Float\\n', '}\\n', '\\n', 'entity Article {\\n', '    @Id articleId Long\\n', '    reference String required\\n', '    libelle String required\\n', '    description String\\n', '    qteEnStock Double required\\n', '    qteSeuil Double\\n', '    referenceClient String unique\\n', '    typeArticle Integer required\\n', '    vehiculeModeleMarqueId Integer unique\\n', '}\\n', '\\n', 'entity ArticleCategory {\\n', '    @Id articleCategoryId Long\\n', '    libelle String required\\n', '    libelleAR String required\\n', '}\\n', '\\n', 'entity ArticleUnite {\\n', '    @Id articleUniteId Long\\n', '    libelle String required\\n', '    symbole String required\\n', '    libelleAR String required\\n', '    symboleAR String required\\n', '}\\n', '\\n', 'entity DepotNiveau1 {\\n', '    libelle String required\\n', '    description String\\n', '    descriptionAR String\\n', '    libelleAR String\\n', '    etat Integer\\n', '}\\n', '\\n', 'entity DepotNiveau2 {\\n', '    libelle String required\\n', '    description String\\n', '    etat Integer\\n', '    descriptionAR String\\n', '    libelleAR String\\n', '}\\n', '\\n', 'entity DepotNiveau3 {\\n', '    libelle String required\\n', '    description String\\n', '    etat Integer\\n', '    descriptionAR String\\n', '    libelleAR String\\n', '}\\n', '\\n', 'entity Ligneboncommande {\\n', '    ligneBonCommandeQte Float\\n', '    ligneBonCommandePrixUnitaireHT Float\\n', '    ligneBonCommandeTVA Float\\n', '    ligneBonCommandeFodec Double\\n', '    ligneBonCommandeRemise Double\\n', '    ligneBonCommandeMontantTVA Double\\n', '    ligneBonCommandeRemiseValeur Double\\n', '    ligneBonCommandeFodecValeur Integer\\n', '}\\n', 'entity Bonsortiereparationentretiendevis {\\n', '    @Id bonSortieReparationEntretienDevisId Long\\n', '    reparationEntretienDevisId Integer\\n', '    bonSortieReparationEntretienDevisNumero Integer\\n', '    bonSortieReparationEntretienDevisDate ZonedDateTime\\n', '    bonSortieReparationEntretienDevisDateSysteme ZonedDateTime\\n', '}\\n', 'entity Bonretour {\\n', '    @Id bonRetourId Long\\n', '    bonRetourNumero String\\n', '    bonRetourDate ZonedDateTime\\n', '    bonRetourIdObservation String required\\n', '    bonRetourDateSysteme ZonedDateTime\\n', '}\\n', 'entity Boncommandeaffectationvehicule {\\n', '    idAffectation Integer required\\n', '    idVehicule Integer required\\n', '}\\n', '\\n', 'entity Fodec {\\n', '    @Id idFodec Long\\n', '    libelle String\\n', '    valeur Float\\n', '}\\n', '\\n', 'entity Factureaccident{\\n', '    @Id factureAccidentId Long\\n', '    //factureAccidentFactureId Integer required\\n', '    //factureAccidentVehiculeId Integer required\\n', '    //factureAccidentFournisseurId Integer required\\n', '    factureAccidentAccidentId Integer required\\n', '    factureAccidentFactureNumero Integer\\n', '    factureAccidentFournisseurNumero String\\n', '    factureAccidentVehiculeMatricule String\\n', '    factureAccidentFraisPieces Float\\n', '    factureAccidentFraisMainOuevre Float\\n', '    factureAccidentFactureDate ZonedDateTime\\n', '    factureAccidentDateSinistre ZonedDateTime\\n', '    factureAccidentHeureSinistre String\\n', '}\\n', 'relationship ManyToOne {\\n', '    Article{articleUniteId required} to ArticleUnite\\n', '}\\n', '\\n', 'relationship ManyToOne {\\n', '    Article{articleCategoryId required} to ArticleCategory\\n', '}\\n', '\\n', 'relationship ManyToOne {\\n', '    DepotNiveau3{DepotNiveau2} to DepotNiveau2{DepotNiveau3}\\n', '}\\n', '\\n', 'relationship ManyToOne {\\n', '    DepotNiveau2{DepotNiveau1} to DepotNiveau1{DepotNiveau2}\\n', '}\\n', '\\n', 'relationship ManyToOne {\\n', '    Facture{fournisseurId}  to Fournisseur\\n', '}\\n', 'relationship ManyToOne {\\n', '    Boncommande{fournisseurId } to Fournisseur\\n', '}\\n', 'relationship ManyToOne{\\n', '    Bonlivraison{fournisseurId}  to Fournisseur\\n', '}\\n', 'relationship ManyToOne{\\n', '    Bonlivraison{factureId}  to Facture\\n', '}\\n', 'relationship ManyToOne{\\n', '    Bonlivraison{boncommandeId}  to Boncommande\\n', '}\\n', 'relationship ManyToOne {\\n', '    Ligneboncommande{boncommandeId} to Boncommande\\n', '}\\n', 'relationship ManyToOne {\\n', '    Ligneboncommande {articleId} to Article\\n', '}\\n', 'relationship ManyToOne {\\n', '    Bonretour {fournisseurId} to Fournisseur\\n', '}\\n', 'relationship ManyToOne {\\n', '    Boncommandeaffectationvehicule {boncommandeId} to Boncommande\\n', '}\\n', 'relationship ManyToOne {\\n', '    Factureaccident {factureAccidentFactureId} to Facture {factureId}\\n', '}\\n', 'relationship ManyToOne {\\n', '    Factureaccident {factureAccidentFournisseurId} to Fournisseur {fournisseurId}\\n', '}\\n', '\\n', 'paginate Fournisseur with pagination\\n', 'paginate  Boncommande with pagination\\n', 'paginate Bonlivraison with pagination\\n', 'paginate Facture with pagination\\n', 'paginate Boncommandeaffectationvehicule with pagination\\n', 'paginate Ligneboncommande with pagination\\n', 'paginate Bonretour with pagination\\n', 'paginate Bonsortiereparationentretiendevis with pagination\\n', '\\n', 'paginate Fodec with pagination\\n', '\\n', 'paginate ArticleMouvement with pagination\\n', 'paginate DepotNiveau1 with pagination\\n', 'paginate DepotNiveau2 with pagination\\n', 'paginate DepotNiveau3 with pagination\\n', 'paginate Article with pagination\\n', 'paginate ArticleUnite with pagination\\n', 'paginate ArticleCategory with pagination\\n', 'paginate Factureaccident with pagination']}, 'vehicule': {'entities': {'Vehicule': set(), 'MDeafVehiculeGenre': set(), 'MDeafVehiculeModeleCommercial': set(), 'VehiculeUnite': set(), 'VehiculeCategory': set(), 'Climatisation': set(), 'Carburant': set(), 'Etat': set(), 'SourceAcquisition': set(), 'DimensionRoue': set(), 'OdometreType': set(), 'Transmission': set(), 'AcquisitionType': set(), 'AffectationType': set(), 'Version': set(), 'MarqueModele': set(), 'Marque': set(), 'VehiculeEquipementVehicule': set(), 'VehiculeEquipement': set(), 'VehiculeEquipementType': set(), 'VehiculeVignette': set(), 'VehiculeVignetteDieselQuittance': set(), 'VehiculeContravention': set(), 'VehiculeContraventionNature': set(), 'VehiculeContraventionType': set(), 'VehiculeVisiteTechnique': set(), 'VehiculeAccident': set(), 'AssuranceModeReglement': set(), 'AssurancePolice': set(), 'AssurancePoliceQuittance': set(), 'AssurancePoliceResiliation': set(), 'AssurancePoliceAssureur': set(), 'AssurancePoliceValiditeQuittance': set(), 'AssurancePoliceVehicule': set(), 'AssurancePoliceTypeProtectionR': set(), 'AssurancePoliceTypeProtection': set()}, 'data': ['entity Vehicule {\\n', '    couleur String\\n', '    couleurAR String\\n', '    cylindree Integer required\\n', '    dateInsertion ZonedDateTime\\n', '    datePremierMiseEnCirculation ZonedDateTime\\n', '    matriculeVehicule String required\\n', '    matriculeAR String\\n', '    nombrePlaces Integer required\\n', '    nombrePortes Integer required\\n', '    nombreRoue Integer\\n', '    numeroChassie String\\n', '    odometre Integer required\\n', '    poids Integer\\n', '    puissance Integer required\\n', '    matriculePE String\\n', '    prix Double\\n', '    dateAcquisition ZonedDateTime\\n', '    description String\\n', '    poidLourd Integer required\\n', '}\\n', '\\n', 'entity MDeafVehiculeGenre {\\n', '    idClt Integer\\n', '    libelle String\\n', '    libelleAR String\\n', '}\\n', '\\n', 'entity MDeafVehiculeModeleCommercial {\\n', '    libelle String\\n', '    libelleAR String\\n', '    description String\\n', '    descriptionAR String\\n', '}\\n', '\\n', 'entity VehiculeUnite {\\n', '    dateAffectation ZonedDateTime\\n', '}\\n', '\\n', 'entity Unite {\\n', '    uniteIdClt Integer\\n', '    uniteLibelle String\\n', '    uniteLibelleAR String\\n', '    uniteDescription String\\n', '    uniteDescriptionAR String\\n', '    uniteAbreviation String\\n', '    uniteCodeParent Integer\\n', '    uniteMatriculeResponsable Integer\\n', '}\\n', '\\n', 'entity VehiculeCategory {\\n', '    cone Blob\\n', '    libelle String\\n', '    libelleAR String\\n', '}\\n', '\\n', 'entity Climatisation {\\n', '    libelle String\\n', '}\\n', '\\n', 'entity Etat {\\n', '    libelle String\\n', '    libelleAR String\\n', '    description String\\n', '    descriptionAR String\\n', '}\\n', '\\n', 'entity Carburant {\\n', '    libelle String\\n', '    libelleAR String\\n', '    description String\\n', '    descriptionAR String\\n', '}\\n', '\\n', 'entity SourceAcquisition {\\n', '    libelle String\\n', '    libelleAR String\\n', '    description String\\n', '    descriptionAR String\\n', '}\\n', '\\n', 'entity Transmission {\\n', '    libelle String\\n', '    libelleAR String\\n', '}\\n', '\\n', 'entity DimensionRoue {\\n', '    libelle String\\n', '}\\n', '\\n', 'entity OdometreType {\\n', '    libelle String\\n', '    description String\\n', '}\\n', '\\n', 'entity AcquisitionType {\\n', '    libelle String\\n', '    description String\\n', '    libelleAR String\\n', '}\\n', '\\n', 'entity AffectationType {\\n', '    idClt String\\n', '    libelle String\\n', '    libelleAR String\\n', '}\\n', '\\n', 'entity Version {\\n', '    libelle String\\n', '    libelleAR String\\n', '    idClt Integer\\n', '}\\n', '\\n', 'entity MarqueModele {\\n', '    idClt Integer\\n', '    libelle String\\n', '    libelleAR String\\n', '}\\n', '\\n', 'entity Marque {\\n', '    idClt Integer\\n', '    libelle String\\n', '    libelleAR String\\n', '}\\n', '\\n', 'entity VehiculeEquipementVehicule\\n', '\\n', 'entity VehiculeEquipement {\\n', '    description String\\n', '    libelle String\\n', '}\\n', '\\n', 'entity VehiculeEquipementType {\\n', '    description String\\n', '    libelle String\\n', '}\\n', '\\n', 'entity AssuranceModeReglement {\\n', '    modeReglementLibelle String required\\n', '}\\n', '\\n', 'entity VehiculeVignette {\\n', '    dateDebut ZonedDateTime\\n', '    dateFin ZonedDateTime\\n', '    dateReglementReelle ZonedDateTime required\\n', '    numeroQuittance String\\n', '    supression Integer\\n', '    prix Double\\n', '}\\n', '\\n', 'entity VehiculeVignetteDieselQuittance {\\n', '    dateDebut ZonedDateTime\\n', '    dateFin ZonedDateTime\\n', '    montant String\\n', '}\\n', '\\n', 'entity VehiculeVignetteDiesel {\\n', '    dateDebut ZonedDateTime\\n', '    dateFin ZonedDateTime\\n', '    montant String\\n', '}\\n', '\\n', 'entity VehiculeContraventionNature {\\n', '    libelle String\\n', '    description String\\n', '    libelleAR String\\n', '}\\n', '\\n', 'entity VehiculeContravention {\\n', '    reference String\\n', '    dateReelle ZonedDateTime\\n', '    dateRecu ZonedDateTime\\n', '    dateSysteme ZonedDateTime\\n', '    montant Float\\n', '    heureReelle Integer\\n', '    minuteReelle Integer\\n', '    personnelReference Integer\\n', '}\\n', '\\n', 'entity VehiculeContraventionType {\\n', '    libelle String\\n', '    libelleAR String\\n', '    description String\\n', '    descriptionAR String\\n', '}\\n', '\\n', 'entity VehiculeVisiteTechnique {\\n', '    dateProchaineVisite ZonedDateTime required\\n', '    dateReelleVisite ZonedDateTime required\\n', '    dateReglement ZonedDateTime\\n', '    dateVisite ZonedDateTime required\\n', '    numRecu String required\\n', '    prix Float required\\n', '    supression Integer\\n', '}\\n', '\\n', 'entity VehiculeAccident {\\n', '    date ZonedDateTime\\n', '    blesse Integer\\n', '    degat Integer\\n', '    temoin String\\n', '    cas Integer\\n', '    degatApparent String\\n', '    observation String\\n', '    expertiseDate ZonedDateTime\\n', '    villeAdresseId Integer unique\\n', '    personnelId Integer\\n', '    minute Integer\\n', '    heure Integer\\n', '    commentaires String\\n', '    prixReparation Float\\n', '    commentaire String\\n', '    image Blob\\n', '    fraisRemboursement Double\\n', '    fraisPieces Float\\n', '    fraisMainOuevre Float\\n', '    personnelId Integer unique\\n', '}\\n', '\\n', 'entity AssurancePoliceVehicule {\\n', '    dateRenouvellement ZonedDateTime\\n', '    expireLe ZonedDateTime\\n', '    supression Integer\\n', '    valableDu ZonedDateTime\\n', '}\\n', '\\n', 'entity AssurancePoliceQuittance {\\n', '    dateDebut ZonedDateTime\\n', '    dateFin ZonedDateTime\\n', '    dateReglement ZonedDateTime\\n', '    montant Double\\n', '    numeroQuittance String\\n', '    suppression Integer\\n', '}\\n', '\\n', 'entity AssurancePoliceValiditeQuittance {\\n', '    libelle String\\n', '    nombreJours Integer\\n', '}\\n', '\\n', 'entity AssurancePolice {\\n', '    dateRenouvellementAssurance ZonedDateTime\\n', '    expireLe ZonedDateTime\\n', '    montantAnnuel Double\\n', '    NumeroContrat String\\n', '    suppression Integer\\n', '    valableDu ZonedDateTime\\n', '}\\n', '\\n', 'entity AssurancePoliceAssureur {\\n', '    adresse String\\n', '    emails String\\n', '    fax String\\n', '    gouvernorat String\\n', '    libelle String\\n', '    nomComplet String\\n', '    numeroTelephone String\\n', '    siteWeb String\\n', '    ville String\\n', '}\\n', '\\n', 'entity AssurancePoliceResiliation {\\n', '    libelle String\\n', '    nombreJours Integer\\n', '}\\n', '\\n', 'entity AssurancePoliceTypeProtectionR\\n', '\\n', 'entity AssurancePoliceTypeProtection {\\n', '    description String\\n', '    libelle String\\n', '}\\n', '\\n', 'relationship ManyToOne {\\n', '    Vehicule{MDeafVehiculeGenre required} to MDeafVehiculeGenre{Vehicule}\\n', '}\\n', '\\n', 'relationship ManyToOne {\\n', '    Vehicule{MDeafVehiculeModeleCommercial} to MDeafVehiculeModeleCommercial{Vehicule}\\n', '}\\n', '\\n', 'relationship ManyToOne {\\n', '    VehiculeUnite{Vehicule required} to Vehicule{VehiculeUnite}\\n', '}\\n', '\\n', 'relationship ManyToOne {\\n', '    VehiculeUnite{Unite required} to Unite{VehiculeUnite}\\n', '}\\n', '\\n', 'relationship ManyToOne {\\n', '    VehiculeEquipementVehicule{Vehicule} to Vehicule{VehiculeEquipementVehicule}\\n', '}\\n', '\\n', 'relationship ManyToOne {\\n', '    VehiculeEquipementVehicule{VehiculeEquipement} to VehiculeEquipement{VehiculeEquipementVehicule}\\n', '}\\n', '\\n', 'relationship ManyToOne {\\n', '    VehiculeEquipement{VehiculeEquipementType} to VehiculeEquipementType{VehiculeEquipement}\\n', '}\\n', '\\n', 'relationship ManyToOne {\\n', '    AssurancePoliceTypeProtectionR{AssurancePoliceTypeProtection} to AssurancePoliceTypeProtection{AssurancePoliceTypeProtectionR}\\n', '}\\n', '\\n', 'relationship ManyToOne {\\n', '    AssurancePoliceTypeProtectionR{AssurancePolice} to AssurancePolice{AssurancePoliceTypeProtectionR}\\n', '}\\n', '\\n', 'relationship  ManyToOne {\\n', '    AssurancePoliceVehicule{AssurancePolice} to AssurancePolice{AssurancePoliceVehicule}\\n', '}\\n', '\\n', 'relationship  ManyToOne {\\n', '    AssurancePolice{AssurancePoliceAssureur} to AssurancePoliceAssureur{AssurancePolice}\\n', '}\\n', '\\n', 'relationship  ManyToOne {\\n', '    AssurancePolice{AssurancePoliceResiliation} to AssurancePoliceResiliation{AssurancePolice}\\n', '}\\n', '\\n', 'relationship  ManyToOne {\\n', '    AssurancePoliceVehicule{AssurancePoliceQuittance} to AssurancePoliceQuittance{AssurancePoliceVehicule}\\n', '}\\n', '\\n', 'relationship  ManyToOne {\\n', '    AssurancePoliceQuittance{Etat} to Etat{AssurancePoliceQuittance}\\n', '}\\n', '\\n', 'relationship  ManyToOne {\\n', '    VehiculeVisiteTechnique{Etat required} to Etat{VehiculeVisiteTechnique}\\n', '}\\n', '\\n', 'relationship  ManyToOne {\\n', '    VehiculeVisiteTechnique{Vehicule} to Vehicule{VehiculeVisiteTechnique}\\n', '}\\n', '\\n', 'relationship  ManyToOne {\\n', '    AssurancePoliceQuittance{AssurancePoliceValiditeQuittance} to AssurancePoliceValiditeQuittance{AssurancePoliceQuittance}\\n', '}\\n', '\\n', 'relationship  ManyToOne {\\n', '    AssurancePoliceQuittance{AssuranceModeReglement} to AssuranceModeReglement{AssurancePoliceQuittance}\\n', '}\\n', '\\n', 'relationship ManyToOne {\\n', '    VehiculeAccident{Vehicule} to Vehicule{VehiculeAccident}\\n', '}\\n', '\\n', 'relationship ManyToOne {\\n', '    AssurancePoliceVehicule{Vehicule} to Vehicule{AssurancePoliceVehicule}\\n', '}\\n', '\\n', 'relationship ManyToOne {\\n', '    VehiculeContravention{Vehicule} to Vehicule{VehiculeContravention}\\n', '}\\n', '\\n', 'relationship ManyToOne {\\n', '    VehiculeContravention{Etat} to Etat{VehiculeContravention}\\n', '}\\n', '\\n', 'relationship ManyToOne {\\n', '    VehiculeContravention{VehiculeContraventionNature} to VehiculeContraventionNature{VehiculeContravention}\\n', '}\\n', '\\n', 'relationship ManyToOne {\\n', '    VehiculeContravention{VehiculeContraventionType} to VehiculeContraventionType{VehiculeContravention}\\n', '}\\n', '\\n', 'relationship ManyToOne {\\n', '    VehiculeVignetteDieselQuittance{VehiculeVignette} to VehiculeVignette{VehiculeVignetteDieselQuittance}\\n', '}\\n', '\\n', 'relationship ManyToOne {\\n', '    VehiculeVignetteDiesel{Vehicule} to Vehicule{VehiculeVignetteDiesel}\\n', '}\\n', '\\n', 'relationship ManyToOne {\\n', '    VehiculeVignette{AssuranceModeReglement required} to AssuranceModeReglement{VehiculeVignette}\\n', '}\\n', '\\n', 'relationship ManyToOne {\\n', '    VehiculeVignette{Etat} to Etat{VehiculeVignette}\\n', '}\\n', '\\n', 'relationship ManyToOne {\\n', '    Vehicule{VehiculeCategory} to VehiculeCategory{Vehicule}\\n', '}\\n', '\\n', 'relationship ManyToOne {\\n', '    Vehicule{Climatisation} to Climatisation{Vehicule}\\n', '}\\n', '\\n', 'relationship ManyToOne {\\n', '    Vehicule{Etat} to Etat{Vehicule}\\n', '}\\n', '\\n', 'relationship ManyToOne {\\n', '    Vehicule{Carburant required} to Carburant{Vehicule}\\n', '}\\n', '\\n', 'relationship ManyToOne {\\n', '    Vehicule{SourceAcquisition} to SourceAcquisition{Vehicule}\\n', '}\\n', '\\n', 'relationship ManyToOne {\\n', '    Vehicule{Transmission required} to Transmission{Vehicule}\\n', '}\\n', '\\n', 'relationship ManyToOne {\\n', '    Vehicule{DimensionRoue} to DimensionRoue{Vehicule}\\n', '}\\n', '\\n', 'relationship ManyToOne {\\n', '    Vehicule{AcquisitionType} to AcquisitionType{Vehicule}\\n', '}\\n', '\\n', 'relationship ManyToOne {\\n', '    Vehicule{OdometreType required} to OdometreType{Vehicule}\\n', '}\\n', '\\n', 'relationship ManyToOne {\\n', '    Vehicule{AffectationType} to AffectationType{Vehicule}\\n', '}\\n', '\\n', 'relationship ManyToOne {\\n', '    Vehicule{Version} to Version{Vehicule}\\n', '}\\n', '\\n', 'relationship ManyToOne {\\n', '    Version{MarqueModele required} to MarqueModele{Version}\\n', '}\\n', '\\n', 'relationship ManyToOne {\\n', '    Version{VehiculeCategory} to VehiculeCategory{Version}\\n', '}\\n', '\\n', 'relationship ManyToOne {\\n', '    Vehicule{MarqueModele} to MarqueModele{Vehicule}\\n', '}\\n', '\\n', 'relationship ManyToOne {\\n', '    MarqueModele{Marque} to Marque{MarqueModele}\\n', '}\\n', '\\n', 'paginate Vehicule with pagination\\n', 'paginate MDeafVehiculeGenre with pagination\\n', 'paginate MDeafVehiculeModeleCommercial with pagination\\n', 'paginate VehiculeUnite with pagination\\n', 'paginate VehiculeCategory with pagination\\n', 'paginate Climatisation with pagination\\n', 'paginate Carburant with pagination\\n', 'paginate Etat with pagination\\n', 'paginate SourceAcquisition with pagination\\n', 'paginate DimensionRoue with pagination\\n', 'paginate OdometreType with pagination\\n', 'paginate Transmission with pagination\\n', 'paginate AcquisitionType with pagination\\n', 'paginate AffectationType with pagination\\n', 'paginate Version with pagination\\n', 'paginate MarqueModele with pagination\\n', 'paginate Marque with pagination\\n', 'paginate VehiculeEquipementVehicule with pagination\\n', 'paginate VehiculeEquipement with pagination\\n', 'paginate VehiculeEquipementType with pagination\\n', 'paginate VehiculeVignette with pagination\\n', 'paginate VehiculeVignetteDieselQuittance with pagination\\n', 'paginate VehiculeContravention with pagination\\n', 'paginate VehiculeContraventionNature with pagination\\n', 'paginate VehiculeContraventionType with pagination\\n', 'paginate VehiculeVisiteTechnique with pagination\\n', 'paginate VehiculeAccident with pagination\\n', 'paginate AssuranceModeReglement with pagination\\n', 'paginate AssurancePolice with pagination\\n', 'paginate AssurancePoliceQuittance with pagination\\n', 'paginate AssurancePoliceResiliation with pagination\\n', 'paginate AssurancePoliceAssureur with pagination\\n', 'paginate AssurancePoliceValiditeQuittance with pagination\\n', 'paginate AssurancePoliceVehicule with pagination\\n', 'paginate AssurancePoliceTypeProtectionR with pagination\\n', 'paginate AssurancePoliceTypeProtection with pagination']}}\n"
     ]
    }
   ],
   "source": [
    "import os, glob\n",
    "\n",
    "microservices = dict()\n",
    "path = \"D:\\\\Projects\\\\Xtensus\\\\xteUtile\\\\JDLConfiguration\"\n",
    "data = dict()\n",
    "for filename in glob.glob(os.path.join(path, '*.jdl')):\n",
    "    startIndex = filename.rfind('\\\\')+1\n",
    "    endIndex = filename.rfind('Config')\n",
    "    microservices[filename[startIndex:endIndex].lower()] = dict()\n",
    "    microservices[filename[startIndex:endIndex].lower()][\"entities\"] = dict()\n",
    "    with open(os.path.join(os.getcwd(), filename), 'r') as file:\n",
    "        data = file.readlines()\n",
    "        microservices[filename[startIndex:endIndex].lower()][\"data\"] = data\n",
    "        for line in data:\n",
    "            if (\"paginate\" in line):\n",
    "                entityIndexStart = line.find(next(filter(str.isupper, line), ''))\n",
    "                entityIndexEnd = line.find(\"with\")-1\n",
    "                microservices[filename[startIndex:endIndex].lower()][\"entities\"][line[entityIndexStart:entityIndexEnd].strip()] = set()\n",
    "print(microservices)"
   ]
  },
  {
   "cell_type": "code",
   "execution_count": 138,
   "outputs": [
    {
     "name": "stdout",
     "output_type": "stream",
     "text": [
      "Found New Entity : Personnel\n",
      "Found New Entity : Personnelgrade\n",
      "Found New Entity : Personnelchauffeur\n",
      "Found New Entity : Personnelattributionquotacarburant\n",
      "Found New Entity : Personnelautrepersonnel\n",
      "Found New Entity : Boncommande\n",
      "Found New Entity : Bonlivraison\n",
      "Found New Entity : Fournisseur\n",
      "Found New Entity : Facture\n",
      "Found New Entity : ArticleMouvement\n",
      "Found New Entity : Article\n",
      "    vehiculeModeleMarqueId Integer unique\n",
      "\n",
      "Found New Entity : ArticleCategory\n",
      "Found New Entity : ArticleUnite\n",
      "Found New Entity : DepotNiveau1\n",
      "Found New Entity : DepotNiveau2\n",
      "Found New Entity : DepotNiveau3\n",
      "Found New Entity : Ligneboncommande\n",
      "Found New Entity : Bonsortiereparationentretiendevis\n",
      "Found New Entity : Bonretour\n",
      "Found New Entity : Boncommandeaffectationvehicule\n",
      "Found New Entity : Fodec\n",
      "Found New Entity : Factureacciden\n",
      "Found New Entity : Vehicule\n",
      "Found New Entity : MDeafVehiculeGenre\n",
      "Found New Entity : MDeafVehiculeModeleCommercial\n",
      "Found New Entity : VehiculeUnite\n",
      "Found New Entity : Unite\n",
      "Found New Entity : VehiculeCategory\n",
      "Found New Entity : Climatisation\n",
      "Found New Entity : Etat\n",
      "Found New Entity : Carburant\n",
      "Found New Entity : SourceAcquisition\n",
      "Found New Entity : Transmission\n",
      "Found New Entity : DimensionRoue\n",
      "Found New Entity : OdometreType\n",
      "Found New Entity : AcquisitionType\n",
      "Found New Entity : AffectationType\n",
      "Found New Entity : Version\n",
      "Found New Entity : MarqueModele\n",
      "Found New Entity : Marque\n",
      "Found New Entity : VehiculeEquipementVehicul\n",
      "Found New Entity : VehiculeEquipement\n",
      "Found New Entity : VehiculeEquipementType\n",
      "Found New Entity : AssuranceModeReglement\n",
      "Found New Entity : VehiculeVignette\n",
      "Found New Entity : VehiculeVignetteDieselQuittance\n",
      "Found New Entity : VehiculeVignetteDiesel\n",
      "Found New Entity : VehiculeContraventionNature\n",
      "Found New Entity : VehiculeContravention\n",
      "    personnelReference Integer\n",
      "\n",
      "Found New Entity : VehiculeContraventionType\n",
      "Found New Entity : VehiculeVisiteTechnique\n",
      "Found New Entity : VehiculeAccident\n",
      "    personnelId Integer\n",
      "\n",
      "    personnelId Integer unique\n",
      "\n",
      "Found New Entity : AssurancePoliceVehicule\n",
      "Found New Entity : AssurancePoliceQuittance\n",
      "Found New Entity : AssurancePoliceValiditeQuittance\n",
      "Found New Entity : AssurancePolice\n",
      "Found New Entity : AssurancePoliceAssureur\n",
      "Found New Entity : AssurancePoliceResiliation\n",
      "Found New Entity : AssurancePoliceTypeProtection\n",
      "Found New Entity : AssurancePoliceTypeProtection\n"
     ]
    }
   ],
   "source": [
    "for microservice in microservices.keys():\n",
    "    newEntity = False\n",
    "    entityName = \"\"\n",
    "    for line in microservices[microservice][\"data\"]:\n",
    "        if (\"entity\" in line):\n",
    "            newEntity = True\n",
    "            entityName = line[line.find(next(filter(str.isupper, line), '')):line.find(\"{\")-1].strip()\n",
    "            print(\"Found New Entity :\", entityName)\n",
    "            continue\n",
    "        if (\"}\" in line):\n",
    "            newEntity = False\n",
    "            entityName = \"\"\n",
    "        if (newEntity==True):\n",
    "            for entity in microservices[microservice][\"entities\"].keys():\n",
    "                if (entity==entityName):\n",
    "                    #print(entity)\n",
    "                    for otherMicroservice in microservices.keys():\n",
    "                        if (otherMicroservice == microservice):\n",
    "                            continue\n",
    "                        if (otherMicroservice in line):\n",
    "                            index = -1\n",
    "                            for c in line:\n",
    "                                index+=1\n",
    "                                if (c==' '):\n",
    "                                    break\n",
    "                            print(line)\n",
    "                    break\n",
    "\n"
   ],
   "metadata": {
    "collapsed": false,
    "ExecuteTime": {
     "end_time": "2023-08-31T13:19:59.111924500Z",
     "start_time": "2023-08-31T13:19:59.103924300Z"
    }
   }
  }
 ],
 "metadata": {
  "kernelspec": {
   "display_name": "Python 3",
   "language": "python",
   "name": "python3"
  },
  "language_info": {
   "codemirror_mode": {
    "name": "ipython",
    "version": 3
   },
   "file_extension": ".py",
   "mimetype": "text/x-python",
   "name": "python",
   "nbconvert_exporter": "python",
   "pygments_lexer": "ipython3",
   "version": "3.9.13"
  },
  "orig_nbformat": 4
 },
 "nbformat": 4,
 "nbformat_minor": 2
}
